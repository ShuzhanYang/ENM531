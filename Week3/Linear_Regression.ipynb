{
 "cells": [
  {
   "cell_type": "markdown",
   "metadata": {},
   "source": [
    "# Tensorflow Linear Regerssion"
   ]
  },
  {
   "cell_type": "code",
   "execution_count": 4,
   "metadata": {},
   "outputs": [
    {
     "data": {
      "image/png": "[encoded data removed]",
      "text/plain": [
       "<Figure size 432x288 with 1 Axes>"
      ]
     },
     "metadata": {},
     "output_type": "display_data"
    }
   ],
   "source": [
    "import numpy as np\n",
    "import tensorflow as tf\n",
    "import matplotlib.pyplot as plt\n",
    "np.random.seed(1234)\n",
    "\n",
    "N = 100\n",
    "x = np.linspace(0., 1., N)[:,None]\n",
    "y = x + np.random.normal(0, 0.1, N)[:,None]\n",
    "plt.plot(x,y, 'ro')\n",
    "plt.show()"
   ]
  },
  {
   "cell_type": "code",
   "execution_count": 5,
   "metadata": {},
   "outputs": [
    {
     "name": "stdout",
     "output_type": "stream",
     "text": [
      "(100, 1)\n",
      "(100, 1)\n"
     ]
    }
   ],
   "source": [
    "print(x.shape)\n",
    "print(y.shape)"
   ]
  },
  {
   "cell_type": "code",
   "execution_count": 6,
   "metadata": {},
   "outputs": [
    {
     "name": "stdout",
     "output_type": "stream",
     "text": [
      "It: 0, Loss: 9.53e-02\n",
      "It: 100, Loss: 6.70e-02\n",
      "It: 200, Loss: 5.25e-02\n",
      "It: 300, Loss: 4.05e-02\n",
      "It: 400, Loss: 3.11e-02\n",
      "It: 500, Loss: 2.41e-02\n",
      "It: 600, Loss: 1.91e-02\n",
      "It: 700, Loss: 1.57e-02\n",
      "It: 800, Loss: 1.34e-02\n",
      "It: 900, Loss: 1.19e-02\n",
      "It: 1000, Loss: 1.10e-02\n",
      "It: 1100, Loss: 1.05e-02\n",
      "It: 1200, Loss: 1.02e-02\n",
      "It: 1300, Loss: 1.00e-02\n",
      "It: 1400, Loss: 9.97e-03\n",
      "It: 1500, Loss: 9.94e-03\n",
      "It: 1600, Loss: 9.92e-03\n",
      "It: 1700, Loss: 9.91e-03\n",
      "It: 1800, Loss: 9.91e-03\n",
      "It: 1900, Loss: 9.91e-03\n",
      "It: 2000, Loss: 9.91e-03\n",
      "It: 2100, Loss: 9.91e-03\n",
      "It: 2200, Loss: 9.91e-03\n",
      "It: 2300, Loss: 9.91e-03\n",
      "It: 2400, Loss: 9.91e-03\n",
      "It: 2500, Loss: 9.91e-03\n",
      "It: 2600, Loss: 9.91e-03\n",
      "It: 2700, Loss: 9.91e-03\n",
      "It: 2800, Loss: 9.91e-03\n",
      "It: 2900, Loss: 9.91e-03\n",
      "It: 3000, Loss: 9.91e-03\n",
      "It: 3100, Loss: 9.91e-03\n",
      "It: 3200, Loss: 9.91e-03\n",
      "It: 3300, Loss: 9.91e-03\n",
      "It: 3400, Loss: 9.91e-03\n",
      "It: 3500, Loss: 9.91e-03\n",
      "It: 3600, Loss: 9.91e-03\n",
      "It: 3700, Loss: 9.91e-03\n",
      "It: 3800, Loss: 9.91e-03\n",
      "It: 3900, Loss: 9.91e-03\n",
      "It: 4000, Loss: 9.91e-03\n",
      "It: 4100, Loss: 9.91e-03\n",
      "It: 4200, Loss: 9.91e-03\n",
      "It: 4300, Loss: 9.91e-03\n",
      "It: 4400, Loss: 9.91e-03\n",
      "It: 4500, Loss: 9.91e-03\n",
      "It: 4600, Loss: 9.91e-03\n",
      "It: 4700, Loss: 9.91e-03\n",
      "It: 4800, Loss: 9.91e-03\n",
      "It: 4900, Loss: 9.91e-03\n"
     ]
    },
    {
     "data": {
      "image/png": "[encoded data removed]",
      "text/plain": [
       "<Figure size 432x288 with 1 Axes>"
      ]
     },
     "metadata": {},
     "output_type": "display_data"
    }
   ],
   "source": [
    "X = tf.placeholder(tf.float32, shape=(N, 1))\n",
    "Y = tf.placeholder(tf.float32, shape=(N, 1))\n",
    "\n",
    "W = tf.Variable(np.random.randn())\n",
    "b = tf.Variable(np.random.randn())\n",
    "\n",
    "Y_pred = tf.multiply(X, W)  + b \n",
    "\n",
    "loss = tf.reduce_mean((Y - Y_pred) ** 2)\n",
    "\n",
    "learning_rate = 0.001\n",
    "iterations = 5000\n",
    "\n",
    "#optimizer = tf.train.GradientDescentOptimizer(learning_rate).minimize(loss)\n",
    "optimizer =tf.train.AdamOptimizer(learning_rate).minimize(loss)\n",
    "\n",
    "init = tf.global_variables_initializer() \n",
    "\n",
    "with tf.Session() as sess:\n",
    "    sess.run(init) \n",
    "    for epochs in range(iterations):\n",
    "        _, Loss = sess.run([optimizer, loss], feed_dict = {X : x, Y : y})\n",
    "        if epochs % 100 == 0:\n",
    "#            weight = sess.run(W)\n",
    " #           bias = sess.run(b)\n",
    "            print('It: %d, Loss: %.2e' % (epochs, Loss))\n",
    "            \n",
    "    Y_p = sess.run(Y_pred, feed_dict = {X : x})\n",
    "    plt.plot(x, Y_p,'b-')\n",
    "    plt.plot(x, y,'ro')\n",
    "    plt.show()\n",
    "            "
   ]
  },
  {
   "cell_type": "code",
   "execution_count": null,
   "metadata": {},
   "outputs": [],
   "source": []
  },
  {
   "cell_type": "markdown",
   "metadata": {},
   "source": [
    "# Pytorch Linear Regression"
   ]
  },
  {
   "cell_type": "code",
   "execution_count": 2,
   "metadata": {},
   "outputs": [
    {
     "data": {
      "text/plain": [
       "<Figure size 640x480 with 1 Axes>"
      ]
     },
     "metadata": {},
     "output_type": "display_data"
    }
   ],
   "source": [
    "import numpy as np\n",
    "import torch\n",
    "from torch.autograd import Variable\n",
    "import matplotlib.pyplot as plt\n",
    "np.random.seed(1234)\n",
    "\n",
    "N = 100\n",
    "x = np.linspace(0., 1., N)[:,None]\n",
    "y = x + np.random.normal(0, 0.1, N)[:,None]\n",
    "plt.plot(x,y, 'ro')\n",
    "plt.show()"
   ]
  },
  {
   "cell_type": "code",
   "execution_count": 3,
   "metadata": {},
   "outputs": [
    {
     "name": "stdout",
     "output_type": "stream",
     "text": [
      "It: 0, Loss: 8.41e-02\n",
      "It: 100, Loss: 4.70e-02\n",
      "It: 200, Loss: 3.81e-02\n",
      "It: 300, Loss: 3.15e-02\n",
      "It: 400, Loss: 2.64e-02\n",
      "It: 500, Loss: 2.25e-02\n",
      "It: 600, Loss: 1.96e-02\n",
      "It: 700, Loss: 1.73e-02\n",
      "It: 800, Loss: 1.55e-02\n",
      "It: 900, Loss: 1.42e-02\n",
      "It: 1000, Loss: 1.32e-02\n",
      "It: 1100, Loss: 1.24e-02\n",
      "It: 1200, Loss: 1.18e-02\n",
      "It: 1300, Loss: 1.14e-02\n",
      "It: 1400, Loss: 1.10e-02\n",
      "It: 1500, Loss: 1.08e-02\n",
      "It: 1600, Loss: 1.06e-02\n",
      "It: 1700, Loss: 1.04e-02\n",
      "It: 1800, Loss: 1.03e-02\n",
      "It: 1900, Loss: 1.02e-02\n",
      "It: 2000, Loss: 1.01e-02\n",
      "It: 2100, Loss: 1.01e-02\n",
      "It: 2200, Loss: 1.00e-02\n",
      "It: 2300, Loss: 1.00e-02\n",
      "It: 2400, Loss: 9.99e-03\n",
      "It: 2500, Loss: 9.97e-03\n",
      "It: 2600, Loss: 9.95e-03\n",
      "It: 2700, Loss: 9.94e-03\n",
      "It: 2800, Loss: 9.94e-03\n",
      "It: 2900, Loss: 9.93e-03\n",
      "It: 3000, Loss: 9.93e-03\n",
      "It: 3100, Loss: 9.92e-03\n",
      "It: 3200, Loss: 9.92e-03\n",
      "It: 3300, Loss: 9.92e-03\n",
      "It: 3400, Loss: 9.92e-03\n",
      "It: 3500, Loss: 9.91e-03\n",
      "It: 3600, Loss: 9.91e-03\n",
      "It: 3700, Loss: 9.91e-03\n",
      "It: 3800, Loss: 9.91e-03\n",
      "It: 3900, Loss: 9.91e-03\n",
      "It: 4000, Loss: 9.91e-03\n",
      "It: 4100, Loss: 9.91e-03\n",
      "It: 4200, Loss: 9.91e-03\n",
      "It: 4300, Loss: 9.91e-03\n",
      "It: 4400, Loss: 9.91e-03\n",
      "It: 4500, Loss: 9.91e-03\n",
      "It: 4600, Loss: 9.91e-03\n",
      "It: 4700, Loss: 9.91e-03\n",
      "It: 4800, Loss: 9.91e-03\n",
      "It: 4900, Loss: 9.91e-03\n"
     ]
    },
    {
     "data": {
      "image/png": "[encoded data removed]",
      "text/plain": [
       "<Figure size 432x288 with 1 Axes>"
      ]
     },
     "metadata": {},
     "output_type": "display_data"
    }
   ],
   "source": [
    "X = torch.from_numpy(x).type(torch.FloatTensor)\n",
    "Y = torch.from_numpy(y).type(torch.FloatTensor)\n",
    "\n",
    "class Linear_Layer(torch.nn.Module):\n",
    "    def __init__(self):\n",
    "        super(Linear_Layer, self).__init__()\n",
    "        self.linear = torch.nn.Linear(1, 1) \n",
    "        \n",
    "    def forward(self, x):\n",
    "        y_pred = self.linear(x)\n",
    "        return y_pred\n",
    "    \n",
    "def compute_loss(X, Y):\n",
    "    Y_pred = FCL(X)\n",
    "    return torch.mean((Y - Y_pred)**2)\n",
    "\n",
    "FCL = Linear_Layer()\n",
    "\n",
    "learning_rate = 0.01\n",
    "iterations = 5000\n",
    "optimizer = torch.optim.SGD(FCL.parameters(), lr = learning_rate)\n",
    "\n",
    "for epochs in range(iterations):\n",
    "    loss = compute_loss(X, Y)\n",
    "    # Zero gradients\n",
    "    optimizer.zero_grad()\n",
    "    # perform backward pass\n",
    "    loss.backward()\n",
    "    # update weights\n",
    "    optimizer.step()\n",
    "    if epochs % 100 == 0:\n",
    "        print('It: %d, Loss: %.2e' % (epochs, loss))\n",
    "    \n",
    "Y_pred = FCL(X)\n",
    "Y_p = Y_pred.cpu().data.numpy()\n",
    "plt.plot(x, Y_p,'b-')\n",
    "plt.plot(x, y,'ro')\n",
    "plt.show()\n"
   ]
  },
  {
   "cell_type": "code",
   "execution_count": null,
   "metadata": {},
   "outputs": [],
   "source": []
  },
  {
   "cell_type": "code",
   "execution_count": null,
   "metadata": {},
   "outputs": [],
   "source": []
  }
 ],
 "metadata": {
  "kernelspec": {
   "display_name": "Python 3",
   "language": "python",
   "name": "python3"
  },
  "language_info": {
   "codemirror_mode": {
    "name": "ipython",
    "version": 3
   },
   "file_extension": ".py",
   "mimetype": "text/x-python",
   "name": "python",
   "nbconvert_exporter": "python",
   "pygments_lexer": "ipython3",
   "version": "3.6.6"
  }
 },
 "nbformat": 4,
 "nbformat_minor": 2
}
